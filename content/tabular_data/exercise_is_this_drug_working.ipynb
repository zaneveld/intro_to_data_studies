{
 "cells": [
  {
   "cell_type": "markdown",
   "id": "303609a9",
   "metadata": {},
   "source": [
    "# Exercise: Is this Drug Working?\n",
    "\n",
    "In this exercise, we will use the pandas python package, along with matplotlib graphing to look at some simulated data from a (simplified) drug trial. We have a simple question: based on these data, is our drug working? "
   ]
  },
  {
   "cell_type": "markdown",
   "id": "d121abf7",
   "metadata": {},
   "source": [
    "## Getting the test data\n",
    "\n",
    "First, we'll need to download a comma separated values file that contains our drug data. This file can be found [here](./resources/treatment_results.csv). \n",
    "\n",
    "Click on the link to download the file (by default it will go to `Downloads`.\n",
    "\n",
    "Then, move it to the same folder on your computer that you will be using to for your analysis. You can do this either on the command line or using your graphical user interface (NOTE: you need to remember or write down which one this is so you can get to that same folder in your command line interface before starting jupyter notebooks).\n"
   ]
  },
  {
   "cell_type": "markdown",
   "id": "d67abb1f",
   "metadata": {},
   "source": [
    "## Examining the test data in Excel\n",
    "\n",
    "CSV or comma separated values files can be opened in Excel or Google Sheets.\n",
    "\n",
    "### Opening the data file in Excel\n",
    "Depending on your version of Excel, you may be able to use one of the following methods:\n",
    "\n",
    "- `File > Open`, then pick the file. (If you are in the folder where the file is but can't see it, there may be a pulldown menu letting you choose which files Excel 'sees', select 'All Files')\n",
    "- open Excel separately and drag the `.csv` file from your finder onto it. \n",
    "- A final method is to open a new blank sheet and from the Data tab select `Get Data > From File > From Text/CSV`, and then pick your file\n",
    "\n",
    "### Examining the Data\n",
    "\n",
    "Now let's check out the data. It should look something like this:\n",
    "\n",
    "<img src=\"./resources/data_screenshot.png\" alt=\"An Excel file. There are 4 columns: Patient ID, Patient Age, Patient Health, and Treatment. Under each are numbers. The patient ID column has a unique number for each patient. The first few patient ages range between 15 and 88. The Patient Health column has a number in the thousands representing patient health. The treatment column is categorical and has either 'Treatment' or 'Placebo' marked in each row.\" width=800>"
   ]
  },
  {
   "cell_type": "markdown",
   "id": "d189f549",
   "metadata": {},
   "source": [
    "### Checking the path for your current working directory\n",
    "\n",
    "Before we try to load the data in our jupyter notebook, we have to move it into the same directory as the current working directory for our notebook.  The `get_cwd` command can tell you the path of your current working directory. This can be useful for moving files into that directory in your finder, or re-downloading them and saving them into that directory."
   ]
  },
  {
   "cell_type": "code",
   "execution_count": 16,
   "id": "eaf90f24",
   "metadata": {},
   "outputs": [
    {
     "name": "stdout",
     "output_type": "stream",
     "text": [
      "/Users/zaneveld/Dropbox/Zaneveld_Lab_Organization/Projects/intro_to_data_studies/content/tabular_data\n"
     ]
    }
   ],
   "source": [
    "from os import getcwd\n",
    "print(getcwd())"
   ]
  },
  {
   "cell_type": "markdown",
   "id": "6aa3db1d",
   "metadata": {},
   "source": [
    "## Move the file into our current working directory using your graphical user interface\n",
    "\n",
    "Try to download the file directly into the folder shown by your getcwd() command. Or, if you prefer, download it into Downloads and then move it to your current working directory.\n",
    "\n",
    "Once you think you've got it there, you can use the `listdir` command from the `os` module to check if its there."
   ]
  },
  {
   "cell_type": "code",
   "execution_count": 19,
   "id": "475a4ec3",
   "metadata": {},
   "outputs": [
    {
     "data": {
      "text/plain": [
       "['.DS_Store',\n",
       " 'exercise_is_this_drug_working.ipynb',\n",
       " 'resources',\n",
       " '.ipynb_checkpoints']"
      ]
     },
     "execution_count": 19,
     "metadata": {},
     "output_type": "execute_result"
    }
   ],
   "source": [
    "from os import listdir\n",
    "listdir()"
   ]
  },
  {
   "cell_type": "markdown",
   "id": "c3b3207f",
   "metadata": {},
   "source": [
    "In my case you can see I *didn't* put the file in my current directory (it's not in the list), but instead stuck it into a 'resources' folder within my current working directory. That's OK - we just use another listdir command to check that it is in the resources folder like I expect:"
   ]
  },
  {
   "cell_type": "code",
   "execution_count": 20,
   "id": "c52956c7",
   "metadata": {},
   "outputs": [
    {
     "data": {
      "text/plain": [
       "['data_screenshot.png', 'treatment_results.csv']"
      ]
     },
     "execution_count": 20,
     "metadata": {},
     "output_type": "execute_result"
    }
   ],
   "source": [
    "listdir('resources')"
   ]
  },
  {
   "cell_type": "markdown",
   "id": "6101c52b",
   "metadata": {},
   "source": [
    "Great! I see it. So wherever your file is, you just need to remember that to load it into pandas, we'll need the *relative path* from our current working directory to where the file is (in my case `./resources/treatment_results.csv', but if it were in the same folder it would just be `treatment_results.csv`)"
   ]
  },
  {
   "cell_type": "markdown",
   "id": "0c83e840",
   "metadata": {},
   "source": [
    "## Importing pandas and loading the data into python"
   ]
  },
  {
   "cell_type": "code",
   "execution_count": 12,
   "id": "baa638cd",
   "metadata": {},
   "outputs": [
    {
     "data": {
      "text/html": [
       "<div>\n",
       "<style scoped>\n",
       "    .dataframe tbody tr th:only-of-type {\n",
       "        vertical-align: middle;\n",
       "    }\n",
       "\n",
       "    .dataframe tbody tr th {\n",
       "        vertical-align: top;\n",
       "    }\n",
       "\n",
       "    .dataframe thead th {\n",
       "        text-align: right;\n",
       "    }\n",
       "</style>\n",
       "<table border=\"1\" class=\"dataframe\">\n",
       "  <thead>\n",
       "    <tr style=\"text-align: right;\">\n",
       "      <th></th>\n",
       "      <th>PatientID</th>\n",
       "      <th>Patient Age</th>\n",
       "      <th>Patient Health</th>\n",
       "      <th>Treatment</th>\n",
       "    </tr>\n",
       "  </thead>\n",
       "  <tbody>\n",
       "    <tr>\n",
       "      <th>0</th>\n",
       "      <td>0</td>\n",
       "      <td>89</td>\n",
       "      <td>1538</td>\n",
       "      <td>Placebo</td>\n",
       "    </tr>\n",
       "    <tr>\n",
       "      <th>1</th>\n",
       "      <td>1</td>\n",
       "      <td>55</td>\n",
       "      <td>1167</td>\n",
       "      <td>Drug</td>\n",
       "    </tr>\n",
       "    <tr>\n",
       "      <th>2</th>\n",
       "      <td>2</td>\n",
       "      <td>15</td>\n",
       "      <td>1759</td>\n",
       "      <td>Drug</td>\n",
       "    </tr>\n",
       "    <tr>\n",
       "      <th>3</th>\n",
       "      <td>3</td>\n",
       "      <td>42</td>\n",
       "      <td>1361</td>\n",
       "      <td>Drug</td>\n",
       "    </tr>\n",
       "    <tr>\n",
       "      <th>4</th>\n",
       "      <td>4</td>\n",
       "      <td>52</td>\n",
       "      <td>1754</td>\n",
       "      <td>Placebo</td>\n",
       "    </tr>\n",
       "    <tr>\n",
       "      <th>...</th>\n",
       "      <td>...</td>\n",
       "      <td>...</td>\n",
       "      <td>...</td>\n",
       "      <td>...</td>\n",
       "    </tr>\n",
       "    <tr>\n",
       "      <th>95</th>\n",
       "      <td>95</td>\n",
       "      <td>85</td>\n",
       "      <td>718</td>\n",
       "      <td>Drug</td>\n",
       "    </tr>\n",
       "    <tr>\n",
       "      <th>96</th>\n",
       "      <td>96</td>\n",
       "      <td>61</td>\n",
       "      <td>1693</td>\n",
       "      <td>Placebo</td>\n",
       "    </tr>\n",
       "    <tr>\n",
       "      <th>97</th>\n",
       "      <td>97</td>\n",
       "      <td>38</td>\n",
       "      <td>1429</td>\n",
       "      <td>Drug</td>\n",
       "    </tr>\n",
       "    <tr>\n",
       "      <th>98</th>\n",
       "      <td>98</td>\n",
       "      <td>52</td>\n",
       "      <td>1206</td>\n",
       "      <td>Drug</td>\n",
       "    </tr>\n",
       "    <tr>\n",
       "      <th>99</th>\n",
       "      <td>99</td>\n",
       "      <td>67</td>\n",
       "      <td>1657</td>\n",
       "      <td>Placebo</td>\n",
       "    </tr>\n",
       "  </tbody>\n",
       "</table>\n",
       "<p>100 rows × 4 columns</p>\n",
       "</div>"
      ],
      "text/plain": [
       "    PatientID  Patient Age  Patient Health Treatment\n",
       "0           0           89            1538   Placebo\n",
       "1           1           55            1167      Drug\n",
       "2           2           15            1759      Drug\n",
       "3           3           42            1361      Drug\n",
       "4           4           52            1754   Placebo\n",
       "..        ...          ...             ...       ...\n",
       "95         95           85             718      Drug\n",
       "96         96           61            1693   Placebo\n",
       "97         97           38            1429      Drug\n",
       "98         98           52            1206      Drug\n",
       "99         99           67            1657   Placebo\n",
       "\n",
       "[100 rows x 4 columns]"
      ]
     },
     "execution_count": 12,
     "metadata": {},
     "output_type": "execute_result"
    }
   ],
   "source": [
    "import pandas as pd\n",
    "\n",
    "#the data file variable\n",
    "#should match the *relative path* from\n",
    "#your current working directory (where you ran Jupyter Notebook from) \n",
    "#to the actual data file. Or if the file is in your current working\n",
    "#directory, you can just use the filename\n",
    "\n",
    "data_file = './resources/treatment_results.csv'\n",
    "\n",
    "#Now we load the file into a pandas DataFrame called df\n",
    "df = pd.read_csv(data_file)\n",
    "\n",
    "#Show a few rows of our dataframe\n",
    "df"
   ]
  },
  {
   "cell_type": "markdown",
   "id": "90349937",
   "metadata": {},
   "source": [
    "Ideally you should now have a pandas dataframe with the same data as you saw in Excel."
   ]
  },
  {
   "cell_type": "markdown",
   "id": "c58aefc7",
   "metadata": {},
   "source": [
    "## Troubleshooting: If you get an error saying the file doesn't exist\n",
    "\n",
    "The most common reason the above will fail, is if the location you are telling python that the file is in doesn't match it's actual location on your computer. \n",
    "\n",
    "If you get an error, scroll down to the bottom first! The most important part is the last line. The rest just walks thorugh the steps python took to get to that error, which can be long and complex. \n",
    "\n",
    "Read the whole last line of the error message out loud. Seriously! It sounds silly but it can really help to force your brain to engage with the error message (my brain, at least, REALLY wants to gloss over parts of it). If the previous command errored out, the most likely reason is an error that looks something like this:\n",
    "\n",
    "`FileNotFoundError: [Errno 2] No such file or directory: './resources/treatment_resultss.csv'`\n",
    "\n",
    "Can you see why I got this error? In my case, I added an extra 's' onto the filename (treatment_resultss.csv instead of treatment_results.csv). Of course, that misspelled file won't exist. In your case the filename may be right, but you may be in a different folder than you specified.\n",
    "\n",
    "You can use the `listdir` function from python's `os` or operating system module to check what files are in any folder. Just import listdir from os, then call it. If you call it without parameters (like `listdir()`), it will list what's in your current working directory. If you give it a path, it will say what files are at the location you specify."
   ]
  },
  {
   "cell_type": "markdown",
   "id": "b6996339",
   "metadata": {},
   "source": [
    "## Getting x and y data out of our columns\n",
    "\n"
   ]
  },
  {
   "cell_type": "code",
   "execution_count": 23,
   "id": "10780ec7",
   "metadata": {},
   "outputs": [
    {
     "name": "stdout",
     "output_type": "stream",
     "text": [
      "[89, 55, 15, 42, 52, 70, 41, 54, 58, 68, 82, 23, 64, 70, 30, 84, 88, 18, 42, 79, 37, 70, 26, 35, 55, 21, 46, 74, 54, 42, 45, 33, 24, 19, 66, 5, 53, 22, 76, 43, 49, 32, 17, 31, 78, 36, 49, 83, 20, 69, 61, 69, 48, 33, 73, 46, 70, 40, 53, 17, 33, 82, 59, 40, 20, 60, 66, 42, 61, 34, 35, 66, 53, 6, 39, 48, 57, 50, 45, 83, 72, 45, 78, 90, 15, 32, 56, 64, 22, 62, 64, 67, 48, 48, 63, 85, 61, 38, 52, 67] ['Placebo', 'Drug', 'Drug', 'Drug', 'Placebo', 'Placebo', 'Placebo', 'Placebo', 'Placebo', 'Placebo', 'Drug', 'Placebo', 'Placebo', 'Placebo', 'Placebo', 'Placebo', 'Placebo', 'Drug', 'Drug', 'Placebo', 'Drug', 'Placebo', 'Drug', 'Drug', 'Drug', 'Drug', 'Drug', 'Drug', 'Drug', 'Placebo', 'Drug', 'Drug', 'Drug', 'Drug', 'Placebo', 'Placebo', 'Placebo', 'Drug', 'Placebo', 'Placebo', 'Placebo', 'Placebo', 'Placebo', 'Drug', 'Placebo', 'Placebo', 'Drug', 'Drug', 'Placebo', 'Drug', 'Drug', 'Drug', 'Drug', 'Drug', 'Placebo', 'Drug', 'Placebo', 'Placebo', 'Drug', 'Drug', 'Drug', 'Drug', 'Placebo', 'Placebo', 'Drug', 'Placebo', 'Placebo', 'Placebo', 'Drug', 'Placebo', 'Placebo', 'Drug', 'Drug', 'Drug', 'Drug', 'Placebo', 'Placebo', 'Drug', 'Placebo', 'Drug', 'Drug', 'Drug', 'Drug', 'Placebo', 'Placebo', 'Drug', 'Drug', 'Placebo', 'Drug', 'Drug', 'Drug', 'Placebo', 'Drug', 'Placebo', 'Drug', 'Drug', 'Placebo', 'Drug', 'Drug', 'Placebo'] [1538, 1167, 1759, 1361, 1754, 1656, 1800, 1704, 1707, 1659, 759, 1883, 1677, 1657, 1823, 1558, 1547, 1732, 1353, 1586, 1435, 1651, 1595, 1460, 1153, 1697, 1322, 895, 1171, 1798, 1307, 1485, 1646, 1710, 1661, 1972, 1726, 1639, 1609, 1784, 1739, 1828, 1921, 1529, 1604, 1809, 1268, 735, 1891, 947, 1083, 947, 1284, 1492, 1642, 1294, 1643, 1799, 1216, 1738, 1504, 773, 1699, 1801, 1707, 1693, 1653, 1765, 1072, 1816, 1812, 1006, 1201, 1919, 1413, 1763, 1722, 1236, 1765, 742, 937, 1316, 818, 1536, 1929, 1533, 1146, 1692, 1673, 1066, 1030, 1654, 1274, 1759, 1065, 718, 1693, 1429, 1206, 1657]\n"
     ]
    }
   ],
   "source": [
    "age = list(df['Patient Age'])\n",
    "treatment = list(df['Treatment'])\n",
    "response = list(df['Patient Health'])\n",
    "\n",
    "print(age,treatment,response)"
   ]
  },
  {
   "cell_type": "code",
   "execution_count": null,
   "id": "aacbe907",
   "metadata": {},
   "outputs": [],
   "source": []
  }
 ],
 "metadata": {
  "kernelspec": {
   "display_name": "Python 3",
   "language": "python",
   "name": "python3"
  },
  "language_info": {
   "codemirror_mode": {
    "name": "ipython",
    "version": 3
   },
   "file_extension": ".py",
   "mimetype": "text/x-python",
   "name": "python",
   "nbconvert_exporter": "python",
   "pygments_lexer": "ipython3",
   "version": "3.8.8"
  }
 },
 "nbformat": 4,
 "nbformat_minor": 5
}
