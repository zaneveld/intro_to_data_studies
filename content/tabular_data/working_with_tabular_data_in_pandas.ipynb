{
 "cells": [
  {
   "cell_type": "markdown",
   "id": "543dbb56",
   "metadata": {},
   "source": [
    "# Working with Tabular Data in Pandas\n",
    "\n",
    "This notebook will demonstrate basic techniques for loading and manipulating data using the pandas library.\n",
    "\n"
   ]
  },
  {
   "cell_type": "markdown",
   "id": "12252613",
   "metadata": {},
   "source": [
    "## Check that the data file is in the right place\n",
    "\n",
    "We will be working with the `example_data.csv` data file. To analyze the data, we need to download it and place it in our current working directory. \n",
    "\n",
    "One place where it is easy to have problems is if the data you want to analyze aren't in the same folder where you ran your jupyter notebook. To make sure this isn't the issue, let's first use the `listdir` command to check what files are in our current directory. This command must be imported from the `os` module."
   ]
  },
  {
   "cell_type": "code",
   "execution_count": 1,
   "id": "dad0f38c",
   "metadata": {},
   "outputs": [
    {
     "data": {
      "text/plain": [
       "['example_data_no_header.csv',\n",
       " 'treatment_results (1).csv',\n",
       " 'scatterplot_example.png',\n",
       " 'treatment_results.html',\n",
       " 'working_with_tabular_data_in_pandas.ipynb',\n",
       " 'treatment_results.csv',\n",
       " 'is_this_drug_working',\n",
       " '.ipynb_checkpoints',\n",
       " 'example_data.csv']"
      ]
     },
     "execution_count": 1,
     "metadata": {},
     "output_type": "execute_result"
    }
   ],
   "source": [
    "from os import listdir\n",
    "listdir()"
   ]
  },
  {
   "cell_type": "markdown",
   "id": "a5755f70",
   "metadata": {},
   "source": [
    "## Load the data into python using pandas\n",
    "\n",
    "Pandas is traditionally imported using the alis `pd`. We'll follow this convention so what we practice will be similar to what you read in online tutorials."
   ]
  },
  {
   "cell_type": "code",
   "execution_count": 2,
   "id": "993980cd",
   "metadata": {},
   "outputs": [
    {
     "data": {
      "text/html": [
       "<div>\n",
       "<style scoped>\n",
       "    .dataframe tbody tr th:only-of-type {\n",
       "        vertical-align: middle;\n",
       "    }\n",
       "\n",
       "    .dataframe tbody tr th {\n",
       "        vertical-align: top;\n",
       "    }\n",
       "\n",
       "    .dataframe thead th {\n",
       "        text-align: right;\n",
       "    }\n",
       "</style>\n",
       "<table border=\"1\" class=\"dataframe\">\n",
       "  <thead>\n",
       "    <tr style=\"text-align: right;\">\n",
       "      <th></th>\n",
       "      <th>county</th>\n",
       "      <th>income</th>\n",
       "      <th>average_age</th>\n",
       "    </tr>\n",
       "  </thead>\n",
       "  <tbody>\n",
       "    <tr>\n",
       "      <th>0</th>\n",
       "      <td>a</td>\n",
       "      <td>55000</td>\n",
       "      <td>43</td>\n",
       "    </tr>\n",
       "    <tr>\n",
       "      <th>1</th>\n",
       "      <td>b</td>\n",
       "      <td>24000</td>\n",
       "      <td>34</td>\n",
       "    </tr>\n",
       "    <tr>\n",
       "      <th>2</th>\n",
       "      <td>c</td>\n",
       "      <td>16000</td>\n",
       "      <td>31</td>\n",
       "    </tr>\n",
       "    <tr>\n",
       "      <th>3</th>\n",
       "      <td>d</td>\n",
       "      <td>100000</td>\n",
       "      <td>45</td>\n",
       "    </tr>\n",
       "    <tr>\n",
       "      <th>4</th>\n",
       "      <td>e</td>\n",
       "      <td>34000</td>\n",
       "      <td>33</td>\n",
       "    </tr>\n",
       "  </tbody>\n",
       "</table>\n",
       "</div>"
      ],
      "text/plain": [
       "  county  income  average_age\n",
       "0      a   55000           43\n",
       "1      b   24000           34\n",
       "2     c    16000           31\n",
       "3      d  100000           45\n",
       "4      e   34000           33"
      ]
     },
     "execution_count": 2,
     "metadata": {},
     "output_type": "execute_result"
    }
   ],
   "source": [
    "# import the pandas under the alias or nickname pd\n",
    "import pandas as pd\n",
    "\n",
    "#using the read_csv function from pandas to create a dataframe called df\n",
    "df = pd.read_csv('example_data.csv')\n",
    "\n",
    "#If our data didn't have a header we could manually say which column is which:\n",
    "#df = pd.read_csv('example_data_no_header.csv',header=None,names=[\"county\",\"income\",\"age\"])\n",
    "\n",
    "#showing the first few rows of the dataframe\n",
    "df.head()"
   ]
  },
  {
   "cell_type": "markdown",
   "id": "ce14515d",
   "metadata": {},
   "source": [
    "## Setting an index column\n",
    "\n",
    "In Pandas, each DataFrame needs an index column that uniquely identifies each row. This is by default just a number (counting from 0), but if you have your own data that is a more meaningful unique indentifier for each row, you can set one column as an 'index' column using the dataframe `set_index` method."
   ]
  },
  {
   "cell_type": "code",
   "execution_count": 3,
   "id": "6d085350",
   "metadata": {},
   "outputs": [
    {
     "data": {
      "text/html": [
       "<div>\n",
       "<style scoped>\n",
       "    .dataframe tbody tr th:only-of-type {\n",
       "        vertical-align: middle;\n",
       "    }\n",
       "\n",
       "    .dataframe tbody tr th {\n",
       "        vertical-align: top;\n",
       "    }\n",
       "\n",
       "    .dataframe thead th {\n",
       "        text-align: right;\n",
       "    }\n",
       "</style>\n",
       "<table border=\"1\" class=\"dataframe\">\n",
       "  <thead>\n",
       "    <tr style=\"text-align: right;\">\n",
       "      <th></th>\n",
       "      <th>income</th>\n",
       "      <th>average_age</th>\n",
       "    </tr>\n",
       "    <tr>\n",
       "      <th>county</th>\n",
       "      <th></th>\n",
       "      <th></th>\n",
       "    </tr>\n",
       "  </thead>\n",
       "  <tbody>\n",
       "    <tr>\n",
       "      <th>a</th>\n",
       "      <td>55000</td>\n",
       "      <td>43</td>\n",
       "    </tr>\n",
       "    <tr>\n",
       "      <th>b</th>\n",
       "      <td>24000</td>\n",
       "      <td>34</td>\n",
       "    </tr>\n",
       "    <tr>\n",
       "      <th>c</th>\n",
       "      <td>16000</td>\n",
       "      <td>31</td>\n",
       "    </tr>\n",
       "    <tr>\n",
       "      <th>d</th>\n",
       "      <td>100000</td>\n",
       "      <td>45</td>\n",
       "    </tr>\n",
       "    <tr>\n",
       "      <th>e</th>\n",
       "      <td>34000</td>\n",
       "      <td>33</td>\n",
       "    </tr>\n",
       "  </tbody>\n",
       "</table>\n",
       "</div>"
      ],
      "text/plain": [
       "        income  average_age\n",
       "county                     \n",
       "a        55000           43\n",
       "b        24000           34\n",
       "c        16000           31\n",
       "d       100000           45\n",
       "e        34000           33"
      ]
     },
     "execution_count": 3,
     "metadata": {},
     "output_type": "execute_result"
    }
   ],
   "source": [
    "df = df.set_index('county')\n",
    "df.head()"
   ]
  },
  {
   "cell_type": "markdown",
   "id": "9bbddabb",
   "metadata": {},
   "source": [
    "## Access a column and assign it to a variable\n",
    "\n",
    "Square brackets allow you to access columns of pandas DataFrames. These are initially represented as pandas `Series` objects"
   ]
  },
  {
   "cell_type": "code",
   "execution_count": null,
   "id": "b081750f",
   "metadata": {},
   "outputs": [],
   "source": [
    "income = df['income']\n",
    "print(\"Income as a Data Series\",income)"
   ]
  },
  {
   "cell_type": "markdown",
   "id": "6b328435",
   "metadata": {},
   "source": [
    "They can also be converted into basic python lists."
   ]
  },
  {
   "cell_type": "code",
   "execution_count": 4,
   "id": "114f25fa",
   "metadata": {},
   "outputs": [
    {
     "name": "stdout",
     "output_type": "stream",
     "text": [
      "Income as a Data Series county\n",
      "a      55000\n",
      "b      24000\n",
      "c      16000\n",
      "d     100000\n",
      "e      34000\n",
      "Name: income, dtype: int64\n",
      "Income as a list: [55000, 24000, 16000, 100000, 34000]\n"
     ]
    }
   ],
   "source": [
    "income = list(income)\n",
    "print(\"Income as a list:\",income)"
   ]
  },
  {
   "cell_type": "markdown",
   "id": "7e7ff5b0",
   "metadata": {},
   "source": [
    "## Extract lists of x and y data from a pandas DataFrame\n",
    "\n",
    "Let's practice extracting lists of x and y data, as well as a list of labels. Then, we can combine this extracted data with functions we already know for making scatterplots. Together, these techniques will let us load and plot any tabular scatterplot data. "
   ]
  },
  {
   "cell_type": "code",
   "execution_count": 5,
   "id": "7d823446",
   "metadata": {},
   "outputs": [
    {
     "name": "stdout",
     "output_type": "stream",
     "text": [
      "[43, 34, 31, 45, 33] [55000, 24000, 16000, 100000, 34000] ['a', 'b', 'c ', 'd', 'e']\n"
     ]
    }
   ],
   "source": [
    "y = list(df['income'])\n",
    "x = list(df['average_age'])\n",
    "labels = list(df.index)\n",
    "print(x,y,labels)"
   ]
  },
  {
   "cell_type": "markdown",
   "id": "daa3ec2a",
   "metadata": {},
   "source": [
    "## Make a `matplotlib` scatterplot of the data\n"
   ]
  },
  {
   "cell_type": "code",
   "execution_count": 6,
   "id": "4187e020",
   "metadata": {},
   "outputs": [
    {
     "data": {
      "image/png": "[encoded data removed]",
      "text/plain": [
       "<Figure size 432x288 with 1 Axes>"
      ]
     },
     "metadata": {
      "needs_background": "light"
     },
     "output_type": "display_data"
    }
   ],
   "source": [
    "## Make a scatterplot of the data\n",
    "\n",
    "import matplotlib.pyplot as plt\n",
    "\n",
    "plt.scatter(x,y)\n",
    "plt.xlabel(\"Average Age\")\n",
    "plt.ylabel(\"Average Income\")\n",
    "plt.savefig('scatterplot_example.png',dpi=300)"
   ]
  },
  {
   "cell_type": "markdown",
   "id": "a017b7dd",
   "metadata": {},
   "source": [
    "## Using a for loop with enumerate to label data points\n",
    "\n",
    "In some projects, it's important to be able to label scatterplot datapoints. We can do this by using a for loop to iterate over a list of labels. The python `enumerate` function bpth iterates over a list, and returns an i variable that holds which item of the list you are currently on. In this example, `enumerate` gives us both which label we are on (`i`), and what that label is (`label`). \n",
    "\n",
    "We can combine that information with matplotlib's `annotate` function, which adds text to your graph at x and y coordinates you specify. Together, these techniques let us add labels to the scatterplot a little offset from each data point.\n"
   ]
  },
  {
   "cell_type": "code",
   "execution_count": 65,
   "id": "59afad0f",
   "metadata": {},
   "outputs": [
    {
     "data": {
      "image/png": "[encoded data removed]",
      "text/plain": [
       "<Figure size 432x288 with 1 Axes>"
      ]
     },
     "metadata": {
      "needs_background": "light"
     },
     "output_type": "display_data"
    }
   ],
   "source": [
    "import matplotlib.pyplot as plt\n",
    "\n",
    "plt.scatter(x,y)\n",
    "plt.xlabel(\"Average Age\")\n",
    "plt.ylabel(\"Average Income\")\n",
    "\n",
    "for i,label in enumerate(labels):\n",
    "    x_coordinate = x[i]\n",
    "    y_coordinate = y[i]\n",
    "    \n",
    "    #Offset the x coordinate\n",
    "    offset = 0.3\n",
    "    x_coordinate += offset\n",
    " \n",
    "    plt.annotate(label,(x_coordinate,y_coordinate))"
   ]
  },
  {
   "cell_type": "markdown",
   "id": "a4b4eb0d",
   "metadata": {},
   "source": [
    "## Label only certain data points\n",
    "\n",
    "In some cases, we may only want to label certain points, especially if you have a lot of data and labelling all points would be very messy. If we have a list of the points we want to label, we can add an `if` statement to our loop to only label data points that are in our list."
   ]
  },
  {
   "cell_type": "code",
   "execution_count": 66,
   "id": "50d45ebf",
   "metadata": {},
   "outputs": [
    {
     "data": {
      "image/png": "[encoded data removed]",
      "text/plain": [
       "<Figure size 432x288 with 1 Axes>"
      ]
     },
     "metadata": {
      "needs_background": "light"
     },
     "output_type": "display_data"
    }
   ],
   "source": [
    "import matplotlib.pyplot as plt\n",
    "\n",
    "plt.scatter(x,y)\n",
    "plt.xlabel(\"Average Age\")\n",
    "plt.ylabel(\"Average Income\")\n",
    "\n",
    "labels_to_plot = ['a','d']\n",
    "for i,label in enumerate(labels):\n",
    "    x_coordinate = x[i]\n",
    "    y_coordinate = y[i]\n",
    "    \n",
    "    #Offset the x coordinate\n",
    "    offset = 0.3\n",
    "    x_coordinate += offset\n",
    "    \n",
    "    if label in labels_to_plot:\n",
    "        plt.annotate(label,[x_coordinate,y_coordinate])\n",
    "\n",
    "\n",
    "\n",
    "plt.savefig('scatterplot_example.png',dpi=300)"
   ]
  }
 ],
 "metadata": {
  "kernelspec": {
   "display_name": "Python 3",
   "language": "python",
   "name": "python3"
  },
  "language_info": {
   "codemirror_mode": {
    "name": "ipython",
    "version": 3
   },
   "file_extension": ".py",
   "mimetype": "text/x-python",
   "name": "python",
   "nbconvert_exporter": "python",
   "pygments_lexer": "ipython3",
   "version": "3.8.8"
  }
 },
 "nbformat": 4,
 "nbformat_minor": 5
}
