{
 "cells": [
  {
   "cell_type": "markdown",
   "id": "cd9fb4e4",
   "metadata": {},
   "source": [
    "# Reading SPSS files in Pandas\n",
    "\n",
    "Pandas has an optional pyreadstats dependency. \n",
    "To read SPSS we have to install it separately.\n",
    "\n",
    "Here's an example of the command to install pyreadstat:\n",
    "\n",
    "` conda install -c conda-forge pyreadstat`\n",
    "\n",
    "If you ran this notebook from a MacOSX Terminal or Git Bash on Windows, you may even be able to install directly from this notebook using the next cell (note the `!` at the start of the line tells Jupyter Notebooks that this is a command line command)\n"
   ]
  },
  {
   "cell_type": "code",
   "execution_count": 2,
   "id": "ad8c6ffc",
   "metadata": {},
   "outputs": [
    {
     "name": "stdout",
     "output_type": "stream",
     "text": [
      "Collecting package metadata (current_repodata.json): done\n",
      "Solving environment: done\n",
      "\n",
      "# All requested packages already installed.\n",
      "\n"
     ]
    }
   ],
   "source": [
    "!conda install -c conda-forge pyreadstat\n"
   ]
  },
  {
   "cell_type": "markdown",
   "id": "5f1b4477",
   "metadata": {},
   "source": [
    "# Download the Add parent health survey 2015-2017 data and unzip it\n",
    "\n",
    "Go to the [Add Parent Health Survey 2015-2017](https://dataverse.unc.edu/dataset.xhtml?persistentId=doi:10.15139/S3/Q2TW3D). \n",
    "\n",
    "Click `Access Dataset` (upper right). You'll have to fill in some basic information, but its a free and pretty easy download.\n",
    "\n",
    "Save the data in a project folder, unzip it (e.g. right click and hit 'Extract all...'). Then manuever a command line interface to your same project folder to open the data in pandas\n",
    "\n"
   ]
  },
  {
   "cell_type": "markdown",
   "id": "ff29d182",
   "metadata": {},
   "source": [
    "# Check what SPSS .sav files are in your current directory"
   ]
  },
  {
   "cell_type": "code",
   "execution_count": 10,
   "id": "21a23ab5",
   "metadata": {},
   "outputs": [
    {
     "name": "stdout",
     "output_type": "stream",
     "text": [
      "['PP2wgt.sav', 'PParent2.sav', 'pp2ahwgt.sav', 'PFHHSP2.sav', 'Prsp2.sav', 'PSP2.sav', 'PFHHP2.sav', 'Prprnt2.sav']\n"
     ]
    }
   ],
   "source": [
    "from os import listdir\n",
    "all_files = listdir()\n",
    "spss_files = [filename for filename in all_files if filename.endswith(\".sav\")]\n",
    "print(spss_files)"
   ]
  },
  {
   "cell_type": "markdown",
   "id": "7b1dce70",
   "metadata": {},
   "source": [
    "# Open an SPSS file as a pandas dataframe"
   ]
  },
  {
   "cell_type": "code",
   "execution_count": 9,
   "id": "1a17e96f",
   "metadata": {},
   "outputs": [
    {
     "data": {
      "text/html": [
       "<div>\n",
       "<style scoped>\n",
       "    .dataframe tbody tr th:only-of-type {\n",
       "        vertical-align: middle;\n",
       "    }\n",
       "\n",
       "    .dataframe tbody tr th {\n",
       "        vertical-align: top;\n",
       "    }\n",
       "\n",
       "    .dataframe thead th {\n",
       "        text-align: right;\n",
       "    }\n",
       "</style>\n",
       "<table border=\"1\" class=\"dataframe\">\n",
       "  <thead>\n",
       "    <tr style=\"text-align: right;\">\n",
       "      <th></th>\n",
       "      <th>AID</th>\n",
       "      <th>PFMID</th>\n",
       "      <th>MEMBRNUM</th>\n",
       "      <th>ROST_AID</th>\n",
       "      <th>TOTHHMEM</th>\n",
       "      <th>MEMBRTYP</th>\n",
       "      <th>P2HR10A</th>\n",
       "      <th>P2HR10B</th>\n",
       "      <th>P2HR10C</th>\n",
       "      <th>P2HR10D</th>\n",
       "      <th>...</th>\n",
       "      <th>P2WP23A1</th>\n",
       "      <th>P2WP23A2</th>\n",
       "      <th>P2WP24A</th>\n",
       "      <th>P2WP24B</th>\n",
       "      <th>P2WP24C</th>\n",
       "      <th>P2WP24D</th>\n",
       "      <th>P2WP25A</th>\n",
       "      <th>P2WP25B</th>\n",
       "      <th>P_LVLFLG</th>\n",
       "      <th>LIVEWITH</th>\n",
       "    </tr>\n",
       "  </thead>\n",
       "  <tbody>\n",
       "    <tr>\n",
       "      <th>0</th>\n",
       "      <td>57103869</td>\n",
       "      <td>27330000</td>\n",
       "      <td>2.0</td>\n",
       "      <td>57103869</td>\n",
       "      <td>3.0</td>\n",
       "      <td>AHSM</td>\n",
       "      <td>7.0</td>\n",
       "      <td>997.0</td>\n",
       "      <td>97.0</td>\n",
       "      <td>97.0</td>\n",
       "      <td>...</td>\n",
       "      <td>7.0</td>\n",
       "      <td>6.0</td>\n",
       "      <td>7.0</td>\n",
       "      <td>7.0</td>\n",
       "      <td>0.0</td>\n",
       "      <td>0.0</td>\n",
       "      <td>4.0</td>\n",
       "      <td>1.0</td>\n",
       "      <td>1.0</td>\n",
       "      <td>0.0</td>\n",
       "    </tr>\n",
       "    <tr>\n",
       "      <th>1</th>\n",
       "      <td>57103869</td>\n",
       "      <td>27330000</td>\n",
       "      <td>3.0</td>\n",
       "      <td></td>\n",
       "      <td>3.0</td>\n",
       "      <td>CHILD</td>\n",
       "      <td>7.0</td>\n",
       "      <td>997.0</td>\n",
       "      <td>97.0</td>\n",
       "      <td>97.0</td>\n",
       "      <td>...</td>\n",
       "      <td>97.0</td>\n",
       "      <td>97.0</td>\n",
       "      <td>7.0</td>\n",
       "      <td>7.0</td>\n",
       "      <td>7.0</td>\n",
       "      <td>7.0</td>\n",
       "      <td>97.0</td>\n",
       "      <td>97.0</td>\n",
       "      <td>1.0</td>\n",
       "      <td>0.0</td>\n",
       "    </tr>\n",
       "    <tr>\n",
       "      <th>2</th>\n",
       "      <td>57103869</td>\n",
       "      <td>27330000</td>\n",
       "      <td>1.0</td>\n",
       "      <td></td>\n",
       "      <td>3.0</td>\n",
       "      <td>CHILD</td>\n",
       "      <td>1.0</td>\n",
       "      <td>37.0</td>\n",
       "      <td>97.0</td>\n",
       "      <td>3.0</td>\n",
       "      <td>...</td>\n",
       "      <td>97.0</td>\n",
       "      <td>97.0</td>\n",
       "      <td>7.0</td>\n",
       "      <td>7.0</td>\n",
       "      <td>7.0</td>\n",
       "      <td>7.0</td>\n",
       "      <td>97.0</td>\n",
       "      <td>97.0</td>\n",
       "      <td>1.0</td>\n",
       "      <td>1.0</td>\n",
       "    </tr>\n",
       "    <tr>\n",
       "      <th>3</th>\n",
       "      <td>57118381</td>\n",
       "      <td>57118381</td>\n",
       "      <td>3.0</td>\n",
       "      <td></td>\n",
       "      <td>3.0</td>\n",
       "      <td>CHILD</td>\n",
       "      <td>7.0</td>\n",
       "      <td>997.0</td>\n",
       "      <td>97.0</td>\n",
       "      <td>97.0</td>\n",
       "      <td>...</td>\n",
       "      <td>97.0</td>\n",
       "      <td>97.0</td>\n",
       "      <td>7.0</td>\n",
       "      <td>7.0</td>\n",
       "      <td>7.0</td>\n",
       "      <td>7.0</td>\n",
       "      <td>97.0</td>\n",
       "      <td>97.0</td>\n",
       "      <td>1.0</td>\n",
       "      <td>0.0</td>\n",
       "    </tr>\n",
       "    <tr>\n",
       "      <th>4</th>\n",
       "      <td>57118381</td>\n",
       "      <td>57118381</td>\n",
       "      <td>2.0</td>\n",
       "      <td>57118381</td>\n",
       "      <td>3.0</td>\n",
       "      <td>AHSM</td>\n",
       "      <td>7.0</td>\n",
       "      <td>997.0</td>\n",
       "      <td>97.0</td>\n",
       "      <td>97.0</td>\n",
       "      <td>...</td>\n",
       "      <td>6.0</td>\n",
       "      <td>6.0</td>\n",
       "      <td>7.0</td>\n",
       "      <td>7.0</td>\n",
       "      <td>0.0</td>\n",
       "      <td>0.0</td>\n",
       "      <td>1.0</td>\n",
       "      <td>4.0</td>\n",
       "      <td>1.0</td>\n",
       "      <td>0.0</td>\n",
       "    </tr>\n",
       "  </tbody>\n",
       "</table>\n",
       "<p>5 rows × 71 columns</p>\n",
       "</div>"
      ],
      "text/plain": [
       "        AID     PFMID  MEMBRNUM  ROST_AID  TOTHHMEM MEMBRTYP  P2HR10A  \\\n",
       "0  57103869  27330000       2.0  57103869       3.0     AHSM      7.0   \n",
       "1  57103869  27330000       3.0                 3.0    CHILD      7.0   \n",
       "2  57103869  27330000       1.0                 3.0    CHILD      1.0   \n",
       "3  57118381  57118381       3.0                 3.0    CHILD      7.0   \n",
       "4  57118381  57118381       2.0  57118381       3.0     AHSM      7.0   \n",
       "\n",
       "   P2HR10B  P2HR10C  P2HR10D  ...  P2WP23A1  P2WP23A2  P2WP24A  P2WP24B  \\\n",
       "0    997.0     97.0     97.0  ...       7.0       6.0      7.0      7.0   \n",
       "1    997.0     97.0     97.0  ...      97.0      97.0      7.0      7.0   \n",
       "2     37.0     97.0      3.0  ...      97.0      97.0      7.0      7.0   \n",
       "3    997.0     97.0     97.0  ...      97.0      97.0      7.0      7.0   \n",
       "4    997.0     97.0     97.0  ...       6.0       6.0      7.0      7.0   \n",
       "\n",
       "   P2WP24C  P2WP24D  P2WP25A  P2WP25B  P_LVLFLG  LIVEWITH  \n",
       "0      0.0      0.0      4.0      1.0       1.0       0.0  \n",
       "1      7.0      7.0     97.0     97.0       1.0       0.0  \n",
       "2      7.0      7.0     97.0     97.0       1.0       1.0  \n",
       "3      7.0      7.0     97.0     97.0       1.0       0.0  \n",
       "4      0.0      0.0      1.0      4.0       1.0       0.0  \n",
       "\n",
       "[5 rows x 71 columns]"
      ]
     },
     "execution_count": 9,
     "metadata": {},
     "output_type": "execute_result"
    }
   ],
   "source": [
    "import pandas as pd\n",
    "df = pd.read_spss('./Prprnt2.sav')\n",
    "df.head()"
   ]
  },
  {
   "cell_type": "markdown",
   "id": "e3514a69",
   "metadata": {},
   "source": [
    "Voila! We have a DataFrame. Of course, the column names may be hard to decifer. Often in government or social science publications it is necessary to consult a readme or data dictionary that says exactly what each column means.\n",
    "\n",
    "Once you know this, you can select the columns you want and give them more informative names within pandas.\n",
    "\n",
    "# Renaming Cryptic Columns"
   ]
  },
  {
   "cell_type": "markdown",
   "id": "03191549",
   "metadata": {},
   "source": [
    "The pdf file `prprnt2.pdf` (matching the SPSS filename) has a data dictionary that says what each column means.\n",
    "\n",
    "Let's make some notes about what these weird acronyms stand for:\n",
    "\n",
    "P2HR10A - Child is 1 - Male 2- Female 6 - Refuse 7- Legitimate Skip \n",
    "\n",
    "I don't know what legitimate skip means here - it might be necessary to more carefully read the study documentation. But for now let's open this column and rename as 'sex'"
   ]
  },
  {
   "cell_type": "code",
   "execution_count": null,
   "id": "badb6a1e",
   "metadata": {},
   "outputs": [],
   "source": [
    "df['Childs_Sex'] = df['P2HR10A']"
   ]
  },
  {
   "cell_type": "markdown",
   "id": "e934b5de",
   "metadata": {},
   "source": [
    "## Replacing Cryptic result codes with their meaning"
   ]
  },
  {
   "cell_type": "code",
   "execution_count": 21,
   "id": "b0b4341f",
   "metadata": {},
   "outputs": [
    {
     "name": "stdout",
     "output_type": "stream",
     "text": [
      "['Unknown', 'Unknown', 'Male', 'Unknown', 'Unknown', 'Male', 'Male', 'Unknown', 'Unknown', 'Unknown']\n"
     ]
    }
   ],
   "source": [
    "df[df['Childs_Sex']==1] = 'Male'\n",
    "df[df['Childs_Sex']==2] = 'Female'\n",
    "df[df['Childs_Sex']==6] = 'Unknown'\n",
    "df[df['Childs_Sex']==7] = 'Unknown'\n",
    "\n",
    "print(list(df['Childs_Sex'])[0:10])"
   ]
  },
  {
   "cell_type": "code",
   "execution_count": null,
   "id": "158194f0",
   "metadata": {},
   "outputs": [],
   "source": []
  }
 ],
 "metadata": {
  "kernelspec": {
   "display_name": "Python 3",
   "language": "python",
   "name": "python3"
  },
  "language_info": {
   "codemirror_mode": {
    "name": "ipython",
    "version": 3
   },
   "file_extension": ".py",
   "mimetype": "text/x-python",
   "name": "python",
   "nbconvert_exporter": "python",
   "pygments_lexer": "ipython3",
   "version": "3.8.8"
  }
 },
 "nbformat": 4,
 "nbformat_minor": 5
}
